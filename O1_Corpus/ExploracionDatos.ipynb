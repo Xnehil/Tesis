{
 "cells": [
  {
   "cell_type": "code",
   "execution_count": 1,
   "metadata": {},
   "outputs": [],
   "source": [
    "import os\n",
    "import re\n",
    "import pandas as pd"
   ]
  },
  {
   "cell_type": "code",
   "execution_count": 11,
   "metadata": {},
   "outputs": [
    {
     "name": "stdout",
     "output_type": "stream",
     "text": [
      "5434\n"
     ]
    }
   ],
   "source": [
    "#Por cada archivo en la carpeta textos, contar oraciones\n",
    "cuenta_dict = {}\n",
    "palabras_unicas = set()\n",
    "for filename in os.listdir('textos'):\n",
    "    #Si el archivo es un .txt\n",
    "    if filename.endswith('.txt'):\n",
    "        #Se abre el archivo\n",
    "        #Saltar el archivo 'textos/DICCIONARIOISKONAWA7.txt' porque no es un archivo de texto\n",
    "        if filename == 'DICCIONARIOISKONAWA7.txt':\n",
    "            continue\n",
    "        with open('textos/'+filename) as file:\n",
    "            #Se lee el archivo\n",
    "            texto = file.read()\n",
    "            #Por cada linea en el archivo\n",
    "            for line in texto.split('\\n'):\n",
    "                #Se busca la palabra '\\trs'\n",
    "                if re.search(r'\\\\trs', line):\n",
    "                    cuenta_dict[filename] = cuenta_dict.get(filename, 0) + 1\n",
    "\n",
    "#Se crea un DataFrame con los datos\n",
    "df = pd.DataFrame(cuenta_dict.items(), columns=['Archivo', 'Cantidad'])\n",
    "df = df.sort_values(by='Cantidad', ascending=False)\n",
    "df = df.reset_index(drop=True)\n",
    "\n",
    "print(df['Cantidad'].sum())"
   ]
  },
  {
   "cell_type": "code",
   "execution_count": 12,
   "metadata": {},
   "outputs": [
    {
     "name": "stdout",
     "output_type": "stream",
     "text": [
      "4333\n"
     ]
    }
   ],
   "source": [
    "#Contar palabras únicas, no es muy representativo, dada la naturaleza aglutinante del iskonawa\n",
    "palabras_unicas = set()\n",
    "for filename in os.listdir('textos'):\n",
    "    #Si el archivo es un .txt\n",
    "    if filename.endswith('.txt'):\n",
    "        #Se abre el archivo\n",
    "        #Saltar el archivo 'textos/DICCIONARIOISKONAWA7.txt' porque no es un archivo de texto\n",
    "        if filename == 'DICCIONARIOISKONAWA7.txt':\n",
    "            continue\n",
    "        with open('textos/'+filename) as file:\n",
    "            #Se lee el archivo\n",
    "            texto = file.read()\n",
    "            #Por cada linea en el archivo\n",
    "            for line in texto.split('\\n'):\n",
    "                #Se busca la palabra '\\trs'\n",
    "                if re.search(r'\\\\trs', line):\n",
    "                    palabras = re.findall(r'\\w+', line)\n",
    "                    for palabra in palabras:\n",
    "                        palabras_unicas.add(palabra)\n",
    "\n",
    "print(len(palabras_unicas))"
   ]
  }
 ],
 "metadata": {
  "kernelspec": {
   "display_name": "Python 3",
   "language": "python",
   "name": "python3"
  },
  "language_info": {
   "codemirror_mode": {
    "name": "ipython",
    "version": 3
   },
   "file_extension": ".py",
   "mimetype": "text/x-python",
   "name": "python",
   "nbconvert_exporter": "python",
   "pygments_lexer": "ipython3",
   "version": "3.12.4"
  }
 },
 "nbformat": 4,
 "nbformat_minor": 2
}
