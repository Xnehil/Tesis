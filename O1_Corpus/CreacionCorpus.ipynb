{
 "cells": [
  {
   "cell_type": "code",
   "execution_count": null,
   "metadata": {},
   "outputs": [],
   "source": [
    "import os\n",
    "import re\n",
    "import pandas as pd\n",
    "import importlib"
   ]
  },
  {
   "cell_type": "markdown",
   "metadata": {},
   "source": [
    "# Extracción"
   ]
  },
  {
   "cell_type": "code",
   "execution_count": null,
   "metadata": {},
   "outputs": [],
   "source": [
    "import FuncionesLectura as fl\n",
    "importlib.reload(fl)\n",
    "\n",
    "df_corpus=fl.leerCorpus(hacerLimpieza=True)\n",
    "print(df_corpus.shape)\n",
    "df_corpus.tail()"
   ]
  },
  {
   "cell_type": "code",
   "execution_count": null,
   "metadata": {},
   "outputs": [],
   "source": [
    "import nltk \n",
    "from nltk.corpus.reader.plaintext import PlaintextCorpusReader\n",
    "\n",
    "#Crear un corpus con los textos en df\n",
    "corpus = PlaintextCorpusReader('../corpus', '.*')\n",
    "for i, row in df.iterrows():\n",
    "    #Crear un archivo con el id como nombre y el texto como contenido\n",
    "    with open(f'../corpus/{row[\"id\"]}.txt', 'w') as file:\n",
    "        file.write(row['texto'])"
   ]
  }
 ],
 "metadata": {
  "kernelspec": {
   "display_name": "Python 3",
   "language": "python",
   "name": "python3"
  },
  "language_info": {
   "codemirror_mode": {
    "name": "ipython",
    "version": 3
   },
   "file_extension": ".py",
   "mimetype": "text/x-python",
   "name": "python",
   "nbconvert_exporter": "python",
   "pygments_lexer": "ipython3",
   "version": "3.12.4"
  }
 },
 "nbformat": 4,
 "nbformat_minor": 2
}
