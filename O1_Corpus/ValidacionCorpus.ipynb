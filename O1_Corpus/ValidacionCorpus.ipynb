{
 "cells": [
  {
   "cell_type": "code",
   "execution_count": 5,
   "metadata": {},
   "outputs": [
    {
     "data": {
      "text/plain": [
       "(5617, 9)"
      ]
     },
     "execution_count": 5,
     "metadata": {},
     "output_type": "execute_result"
    }
   ],
   "source": [
    "import pandas as pd\n",
    "\n",
    "df_corpus_leido = pd.read_json('https://raw.githubusercontent.com/Xnehil/Tesis/main/O1_Corpus/corpus.json', lines=True)\n",
    "df_corpus_leido.shape"
   ]
  },
  {
   "cell_type": "code",
   "execution_count": 9,
   "metadata": {},
   "outputs": [
    {
     "name": "stdout",
     "output_type": "stream",
     "text": [
      "El archivo corpus.json fue leido correctamente\n"
     ]
    }
   ],
   "source": [
    "assert df_corpus_leido.shape[0] == 5617\n",
    "assert df_corpus_leido.shape[1] == 9\n",
    "\n",
    "#Verificar que las columnas id,\tspeaker,\ttranscription, free_translation, file no tengan valores nulos\n",
    "assert df_corpus_leido['id'].isnull().sum() == 0\n",
    "assert df_corpus_leido['speaker'].isnull().sum() == 0\n",
    "assert df_corpus_leido['transcription'].isnull().sum() == 0\n",
    "assert df_corpus_leido['free_translation'].isnull().sum() == 0\n",
    "assert df_corpus_leido['file'].isnull().sum() == 0\n",
    "\n",
    "print(\"El archivo corpus.json fue leido correctamente\")"
   ]
  }
 ],
 "metadata": {
  "kernelspec": {
   "display_name": "Python 3",
   "language": "python",
   "name": "python3"
  },
  "language_info": {
   "codemirror_mode": {
    "name": "ipython",
    "version": 3
   },
   "file_extension": ".py",
   "mimetype": "text/x-python",
   "name": "python",
   "nbconvert_exporter": "python",
   "pygments_lexer": "ipython3",
   "version": "3.12.4"
  }
 },
 "nbformat": 4,
 "nbformat_minor": 2
}
