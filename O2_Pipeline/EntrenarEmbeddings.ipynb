{
 "cells": [
  {
   "cell_type": "code",
   "execution_count": 1,
   "metadata": {},
   "outputs": [],
   "source": [
    "import pandas as pd\n",
    "import importlib\n",
    "import sentencepiece as spm\n",
    "\n",
    "df_corpus = pd.read_json('https://raw.githubusercontent.com/Xnehil/Tesis/main/O1_Corpus/corpus.json', lines=True)"
   ]
  },
  {
   "cell_type": "markdown",
   "metadata": {},
   "source": [
    "## Multilingual-NLM\n",
    "Desde https://github.com/twadada/multilingual-nlm"
   ]
  },
  {
   "cell_type": "code",
   "execution_count": 2,
   "metadata": {},
   "outputs": [
    {
     "data": {
      "text/plain": [
       "<module 'FuncionesPipeline' from 'd:\\\\Repositorios\\\\Tesis\\\\O2_Pipeline\\\\FuncionesPipeline.py'>"
      ]
     },
     "execution_count": 2,
     "metadata": {},
     "output_type": "execute_result"
    }
   ],
   "source": [
    "import FuncionesPipeline as fp\n",
    "#Para recargar el módulo durante el desarrollo\n",
    "importlib.reload(fp)"
   ]
  },
  {
   "cell_type": "code",
   "execution_count": 3,
   "metadata": {},
   "outputs": [],
   "source": [
    "tokenizadorIskonawa=fp.descargarTokenizador('Iskonawa')\n",
    "oracionesIskonawa=df_corpus['transcription']\n",
    "oracionesIskonawa=fp.etapa_preprocesamiento(oracionesIskonawa, tokenizadorIskonawa)\n",
    "\n",
    "oracionesEspaniol=df_corpus['free_translation']\n",
    "tokenizadorEspaniol=fp.descargarTokenizador('Espaniol')\n",
    "oracionesEspaniol=fp.etapa_preprocesamiento(oracionesEspaniol, tokenizadorEspaniol)"
   ]
  },
  {
   "cell_type": "code",
   "execution_count": 18,
   "metadata": {},
   "outputs": [],
   "source": [
    "#Drop both rows where there is at least one missing value in any column\n",
    "missing=[]\n",
    "for i in range(len(oracionesIskonawa)):\n",
    "    if (oracionesIskonawa[i]==[] or oracionesEspaniol[i]==[]):\n",
    "        missing.append(i)\n",
    "\n",
    "oracionesIskonawa.drop(missing, inplace=True)\n",
    "oracionesEspaniol.drop(missing, inplace=True)\n"
   ]
  },
  {
   "cell_type": "code",
   "execution_count": 19,
   "metadata": {},
   "outputs": [],
   "source": [
    "# Archivos, una linea por oración\n",
    "with open('oracionesIskonawa.txt', 'w', encoding='utf-8') as f:\n",
    "    for item in oracionesIskonawa:\n",
    "        if (item==[]):\n",
    "            continue\n",
    "        f.write(\" \".join(item) + \"\\n\")\n",
    "\n",
    "with open('oracionesEspaniol.txt', 'w', encoding='utf-8') as f:\n",
    "    for item in oracionesEspaniol:\n",
    "        f.write(\" \".join(item) + \"\\n\")\n",
    "\n"
   ]
  },
  {
   "cell_type": "markdown",
   "metadata": {},
   "source": [
    "## Anchored embeddings"
   ]
  },
  {
   "cell_type": "markdown",
   "metadata": {},
   "source": []
  }
 ],
 "metadata": {
  "kernelspec": {
   "display_name": "Python 3",
   "language": "python",
   "name": "python3"
  },
  "language_info": {
   "codemirror_mode": {
    "name": "ipython",
    "version": 3
   },
   "file_extension": ".py",
   "mimetype": "text/x-python",
   "name": "python",
   "nbconvert_exporter": "python",
   "pygments_lexer": "ipython3",
   "version": "3.12.4"
  }
 },
 "nbformat": 4,
 "nbformat_minor": 2
}
