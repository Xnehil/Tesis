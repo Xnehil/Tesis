{
 "cells": [
  {
   "cell_type": "code",
   "execution_count": 1,
   "metadata": {},
   "outputs": [],
   "source": [
    "import pandas as pd\n",
    "import importlib\n",
    "\n",
    "df_corpus = pd.read_json('https://raw.githubusercontent.com/Xnehil/Tesis/main/O1_Corpus/corpus.json', lines=True)"
   ]
  },
  {
   "cell_type": "code",
   "execution_count": 26,
   "metadata": {},
   "outputs": [
    {
     "data": {
      "text/plain": [
       "<module 'FuncionesPipeline' from 'd:\\\\Repositorios\\\\Tesis\\\\O2_Pipeline\\\\FuncionesPipeline.py'>"
      ]
     },
     "execution_count": 26,
     "metadata": {},
     "output_type": "execute_result"
    }
   ],
   "source": [
    "import FuncionesPipeline as fp\n",
    "#Para recargar el módulo durante el desarrollo\n",
    "importlib.reload(fp)"
   ]
  },
  {
   "cell_type": "code",
   "execution_count": 27,
   "metadata": {},
   "outputs": [
    {
     "name": "stdout",
     "output_type": "stream",
     "text": [
      "(3794, 9)\n"
     ]
    }
   ],
   "source": [
    "dict1= fp.pipeline(df_corpus)"
   ]
  },
  {
   "cell_type": "code",
   "execution_count": 10,
   "metadata": {},
   "outputs": [],
   "source": [
    "def identify_morphemes(df_corpus):\n",
    "    gloss_list = [\n",
    "        '1PL', '1PL.P', '1PL:A', '1PL:NOM', '1PL:S', '1SG', '1SG.ABS(SK)', '1SG.GEN(SK)', \n",
    "        '1SG:A', '1SG:A(SK)', '1SG:ERG', '1SG:GEN', '1SG:P', '1SG:S', '1SG:S(SK)', \n",
    "        '2PL(SK)', '2PL:P(SK)', '2PL:S(SK)', '2SG', '2SG.ABS(SK)', '2SG:A', '2SG:ABS', \n",
    "        '2SG:ERG', '2SG:GEN', '2SG:P', '2SG:S', '2SGS', '3PL', '3PL(SK)', '3PL:A', \n",
    "        '3SG', '3SG(SK)', '3SG:A', '3SG:GEN'\n",
    "    ]\n",
    "    \n",
    "    morphemes_dict = {gloss: [] for gloss in gloss_list}\n",
    "    \n",
    "    for index, row in df_corpus.iterrows():\n",
    "        if pd.isnull(row['morpheme_break']) or pd.isnull(row['pos']) or pd.isnull(row['gloss_es']):\n",
    "            continue\n",
    "        morphemes, pos_tags, glosses=fp.parse_morphemes(row)\n",
    "        for morpheme, pos, gloss in zip(morphemes, pos_tags, glosses):\n",
    "            if gloss in gloss_list:\n",
    "                if morpheme not in morphemes_dict[gloss]:\n",
    "                    morphemes_dict[gloss].append(morpheme)\n",
    "    \n",
    "    return morphemes_dict\n",
    "\n",
    "morphemesDict= identify_morphemes(df_corpus)"
   ]
  },
  {
   "cell_type": "code",
   "execution_count": 11,
   "metadata": {},
   "outputs": [
    {
     "data": {
      "text/plain": [
       "{'1PL': ['no'],\n",
       " '1PL.P': ['noa'],\n",
       " '1PL:A': ['non', 'noa'],\n",
       " '1PL:NOM': ['noa'],\n",
       " '1PL:S': ['noa', 'non', 'noah'],\n",
       " '1SG': ['e'],\n",
       " '1SG.ABS(SK)': ['ea'],\n",
       " '1SG.GEN(SK)': ['nokon'],\n",
       " '1SG:A': ['mina', 'ea'],\n",
       " '1SG:A(SK)': ['en'],\n",
       " '1SG:ERG': ['ena'],\n",
       " '1SG:GEN': ['ewen'],\n",
       " '1SG:P': ['ea'],\n",
       " '1SG:S': ['eah', 'en'],\n",
       " '1SG:S(SK)': ['ea'],\n",
       " '2PL(SK)': ['mato'],\n",
       " '2PL:P(SK)': ['mato'],\n",
       " '2PL:S(SK)': ['mato'],\n",
       " '2SG': ['mi'],\n",
       " '2SG.ABS(SK)': ['mia'],\n",
       " '2SG:A': ['mi', 'min'],\n",
       " '2SG:ABS': ['mi'],\n",
       " '2SG:ERG': ['maton'],\n",
       " '2SG:GEN': ['mewen'],\n",
       " '2SG:P': ['mi'],\n",
       " '2SG:S': ['mi', 'miah'],\n",
       " '2SGS': ['min'],\n",
       " '3PL': ['ato'],\n",
       " '3PL(SK)': ['hato'],\n",
       " '3PL:A': ['haton'],\n",
       " '3SG': ['a'],\n",
       " '3SG(SK)': ['ha'],\n",
       " '3SG:A': ['a', 'an'],\n",
       " '3SG:GEN': ['awen', 'hawen']}"
      ]
     },
     "execution_count": 11,
     "metadata": {},
     "output_type": "execute_result"
    }
   ],
   "source": [
    "morphemesDict"
   ]
  },
  {
   "cell_type": "code",
   "execution_count": 10,
   "metadata": {},
   "outputs": [
    {
     "data": {
      "text/plain": [
       "0      non kentihokobi\n",
       "1    kapa chopa biribi\n",
       "2                 kapa\n",
       "3    kapa meken beneme\n",
       "4     kapa bene mekeme\n",
       "Name: transcription, dtype: object"
      ]
     },
     "execution_count": 10,
     "metadata": {},
     "output_type": "execute_result"
    }
   ],
   "source": [
    "df_corpus.head().transcription"
   ]
  }
 ],
 "metadata": {
  "kernelspec": {
   "display_name": "Python 3",
   "language": "python",
   "name": "python3"
  },
  "language_info": {
   "codemirror_mode": {
    "name": "ipython",
    "version": 3
   },
   "file_extension": ".py",
   "mimetype": "text/x-python",
   "name": "python",
   "nbconvert_exporter": "python",
   "pygments_lexer": "ipython3",
   "version": "3.12.4"
  }
 },
 "nbformat": 4,
 "nbformat_minor": 2
}
