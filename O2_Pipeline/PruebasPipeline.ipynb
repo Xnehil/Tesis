{
 "cells": [
  {
   "cell_type": "code",
   "execution_count": 1,
   "metadata": {},
   "outputs": [],
   "source": [
    "import pandas as pd\n",
    "import importlib\n",
    "\n",
    "df_corpus = pd.read_json('https://raw.githubusercontent.com/Xnehil/Tesis/main/O1_Corpus/corpus.json', lines=True)"
   ]
  },
  {
   "cell_type": "code",
   "execution_count": 2,
   "metadata": {},
   "outputs": [
    {
     "data": {
      "text/plain": [
       "<module 'FuncionesPipeline' from 'd:\\\\Repositorios\\\\Tesis\\\\O2_Pipeline\\\\FuncionesPipeline.py'>"
      ]
     },
     "execution_count": 2,
     "metadata": {},
     "output_type": "execute_result"
    }
   ],
   "source": [
    "import FuncionesPipeline as fp\n",
    "#Para recargar el módulo durante el desarrollo\n",
    "importlib.reload(fp)"
   ]
  },
  {
   "cell_type": "code",
   "execution_count": 8,
   "metadata": {},
   "outputs": [
    {
     "name": "stdout",
     "output_type": "stream",
     "text": [
      "(7358, 9)\n"
     ]
    }
   ],
   "source": [
    "tokens= fp.pipeline(df_corpus)"
   ]
  },
  {
   "cell_type": "code",
   "execution_count": 10,
   "metadata": {},
   "outputs": [],
   "source": [
    "def identify_morphemes(df_corpus):\n",
    "    gloss_list = [\n",
    "        '1PL', '1PL.P', '1PL:A', '1PL:NOM', '1PL:S', '1SG', '1SG.ABS(SK)', '1SG.GEN(SK)', \n",
    "        '1SG:A', '1SG:A(SK)', '1SG:ERG', '1SG:GEN', '1SG:P', '1SG:S', '1SG:S(SK)', \n",
    "        '2PL(SK)', '2PL:P(SK)', '2PL:S(SK)', '2SG', '2SG.ABS(SK)', '2SG:A', '2SG:ABS', \n",
    "        '2SG:ERG', '2SG:GEN', '2SG:P', '2SG:S', '2SGS', '3PL', '3PL(SK)', '3PL:A', \n",
    "        '3SG', '3SG(SK)', '3SG:A', '3SG:GEN'\n",
    "    ]\n",
    "    \n",
    "    morphemes_dict = {gloss: [] for gloss in gloss_list}\n",
    "    \n",
    "    for index, row in df_corpus.iterrows():\n",
    "        if pd.isnull(row['morpheme_break']) or pd.isnull(row['pos']) or pd.isnull(row['gloss_es']):\n",
    "            continue\n",
    "        morphemes, pos_tags, glosses=fp.parse_morphemes(row)\n",
    "        for morpheme, pos, gloss in zip(morphemes, pos_tags, glosses):\n",
    "            if gloss in gloss_list:\n",
    "                if morpheme not in morphemes_dict[gloss]:\n",
    "                    morphemes_dict[gloss].append(morpheme)\n",
    "    \n",
    "    return morphemes_dict\n",
    "\n",
    "morphemesDict= identify_morphemes(df_corpus)"
   ]
  },
  {
   "cell_type": "code",
   "execution_count": 12,
   "metadata": {},
   "outputs": [
    {
     "data": {
      "text/plain": [
       "11294"
      ]
     },
     "execution_count": 12,
     "metadata": {},
     "output_type": "execute_result"
    }
   ],
   "source": [
    "# import random\n",
    "# num=random.randint(0, len(tokens))\n",
    "# tokens.iloc[num:num+10]\n",
    "tokens.head()"
   ]
  },
  {
   "cell_type": "code",
   "execution_count": 10,
   "metadata": {},
   "outputs": [
    {
     "name": "stdout",
     "output_type": "stream",
     "text": [
      "Number of lines written: 11294\n",
      "Number of lines in DataFrame: 11294\n"
     ]
    }
   ],
   "source": [
    "# Print all tokens in a file line for each text\n",
    "with open('tokens.txt', 'w', encoding='utf-8') as f:\n",
    "    line_count = 0\n",
    "    for tokenList in tokens['tokens']:\n",
    "        f.write((' ').join(tokenList) + '\\n')\n",
    "        line_count += 1\n",
    "\n",
    "print(f\"Number of lines written: {line_count}\")\n",
    "print(f\"Number of lines in DataFrame: {len(tokens)}\")"
   ]
  }
 ],
 "metadata": {
  "kernelspec": {
   "display_name": "Python 3",
   "language": "python",
   "name": "python3"
  },
  "language_info": {
   "codemirror_mode": {
    "name": "ipython",
    "version": 3
   },
   "file_extension": ".py",
   "mimetype": "text/x-python",
   "name": "python",
   "nbconvert_exporter": "python",
   "pygments_lexer": "ipython3",
   "version": "3.12.4"
  }
 },
 "nbformat": 4,
 "nbformat_minor": 2
}
