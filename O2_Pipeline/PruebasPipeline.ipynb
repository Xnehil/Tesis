{
 "cells": [
  {
   "cell_type": "code",
   "execution_count": 43,
   "metadata": {},
   "outputs": [],
   "source": [
    "import pandas as pd\n",
    "import importlib\n",
    "\n",
    "df_corpus = pd.read_json('https://raw.githubusercontent.com/Xnehil/Tesis/main/O1_Corpus/corpus.json', lines=True)"
   ]
  },
  {
   "cell_type": "code",
   "execution_count": 44,
   "metadata": {},
   "outputs": [
    {
     "data": {
      "text/plain": [
       "<module 'FuncionesPipeline' from 'd:\\\\Repositorios\\\\Tesis\\\\O2_Pipeline\\\\FuncionesPipeline.py'>"
      ]
     },
     "execution_count": 44,
     "metadata": {},
     "output_type": "execute_result"
    }
   ],
   "source": [
    "import FuncionesPipeline as fp\n",
    "#Para recargar el módulo durante el desarrollo\n",
    "importlib.reload(fp)"
   ]
  },
  {
   "cell_type": "code",
   "execution_count": 45,
   "metadata": {},
   "outputs": [
    {
     "name": "stdout",
     "output_type": "stream",
     "text": [
      "(3788, 9)\n"
     ]
    }
   ],
   "source": [
    "tokens= fp.pipeline(df_corpus)"
   ]
  },
  {
   "cell_type": "code",
   "execution_count": 10,
   "metadata": {},
   "outputs": [],
   "source": [
    "def identify_morphemes(df_corpus):\n",
    "    gloss_list = [\n",
    "        '1PL', '1PL.P', '1PL:A', '1PL:NOM', '1PL:S', '1SG', '1SG.ABS(SK)', '1SG.GEN(SK)', \n",
    "        '1SG:A', '1SG:A(SK)', '1SG:ERG', '1SG:GEN', '1SG:P', '1SG:S', '1SG:S(SK)', \n",
    "        '2PL(SK)', '2PL:P(SK)', '2PL:S(SK)', '2SG', '2SG.ABS(SK)', '2SG:A', '2SG:ABS', \n",
    "        '2SG:ERG', '2SG:GEN', '2SG:P', '2SG:S', '2SGS', '3PL', '3PL(SK)', '3PL:A', \n",
    "        '3SG', '3SG(SK)', '3SG:A', '3SG:GEN'\n",
    "    ]\n",
    "    \n",
    "    morphemes_dict = {gloss: [] for gloss in gloss_list}\n",
    "    \n",
    "    for index, row in df_corpus.iterrows():\n",
    "        if pd.isnull(row['morpheme_break']) or pd.isnull(row['pos']) or pd.isnull(row['gloss_es']):\n",
    "            continue\n",
    "        morphemes, pos_tags, glosses=fp.parse_morphemes(row)\n",
    "        for morpheme, pos, gloss in zip(morphemes, pos_tags, glosses):\n",
    "            if gloss in gloss_list:\n",
    "                if morpheme not in morphemes_dict[gloss]:\n",
    "                    morphemes_dict[gloss].append(morpheme)\n",
    "    \n",
    "    return morphemes_dict\n",
    "\n",
    "morphemesDict= identify_morphemes(df_corpus)"
   ]
  },
  {
   "cell_type": "code",
   "execution_count": 59,
   "metadata": {},
   "outputs": [
    {
     "data": {
      "text/html": [
       "<div>\n",
       "<style scoped>\n",
       "    .dataframe tbody tr th:only-of-type {\n",
       "        vertical-align: middle;\n",
       "    }\n",
       "\n",
       "    .dataframe tbody tr th {\n",
       "        vertical-align: top;\n",
       "    }\n",
       "\n",
       "    .dataframe thead th {\n",
       "        text-align: right;\n",
       "    }\n",
       "</style>\n",
       "<table border=\"1\" class=\"dataframe\">\n",
       "  <thead>\n",
       "    <tr style=\"text-align: right;\">\n",
       "      <th></th>\n",
       "      <th>id</th>\n",
       "      <th>speaker</th>\n",
       "      <th>transcription</th>\n",
       "      <th>text</th>\n",
       "      <th>morpheme_break</th>\n",
       "      <th>pos</th>\n",
       "      <th>gloss_es</th>\n",
       "      <th>free_translation</th>\n",
       "      <th>file</th>\n",
       "      <th>tokens</th>\n",
       "    </tr>\n",
       "  </thead>\n",
       "  <tbody>\n",
       "    <tr>\n",
       "      <th>1982</th>\n",
       "      <td>JC.NC.IC-trabajo.nelita-2013_020</td>\n",
       "      <td>Juanita</td>\n",
       "      <td>Oinyamabobi.</td>\n",
       "      <td>Oinyamabobi.</td>\n",
       "      <td>oin    -yama    =bo   =bi    -i</td>\n",
       "      <td>v. -suf.    =clit =clit. -suf.</td>\n",
       "      <td>ver    -NEG(SK) =PLU  =ENF   -IMPF</td>\n",
       "      <td>Ni siquiera vienen a ver.</td>\n",
       "      <td>JC.NC.IC-trabajo.nelita-2013.txt</td>\n",
       "      <td>[▁oinyamabobi]</td>\n",
       "    </tr>\n",
       "    <tr>\n",
       "      <th>5782</th>\n",
       "      <td>JC.NC.IC-trabajo.nelita-2013_020_augmented</td>\n",
       "      <td>Juanita_augmented</td>\n",
       "      <td>rowayamabobii</td>\n",
       "      <td>rowayamabobii</td>\n",
       "      <td>rowa    -yama    =bo   =bi    -i</td>\n",
       "      <td>v. -suf. =clit =clit. -suf.</td>\n",
       "      <td>criar -NEG(SK) =PLU =ENF -IMPF</td>\n",
       "      <td>Ni siquiera vienen a ver.</td>\n",
       "      <td>JC.NC.IC-trabajo.nelita-2013.txt</td>\n",
       "      <td>[▁rowa, yama, bobi, i]</td>\n",
       "    </tr>\n",
       "  </tbody>\n",
       "</table>\n",
       "</div>"
      ],
      "text/plain": [
       "                                              id            speaker  \\\n",
       "1982            JC.NC.IC-trabajo.nelita-2013_020            Juanita   \n",
       "5782  JC.NC.IC-trabajo.nelita-2013_020_augmented  Juanita_augmented   \n",
       "\n",
       "      transcription           text                    morpheme_break  \\\n",
       "1982   Oinyamabobi.   Oinyamabobi.   oin    -yama    =bo   =bi    -i   \n",
       "5782  rowayamabobii  rowayamabobii  rowa    -yama    =bo   =bi    -i   \n",
       "\n",
       "                                 pos                            gloss_es  \\\n",
       "1982  v. -suf.    =clit =clit. -suf.  ver    -NEG(SK) =PLU  =ENF   -IMPF   \n",
       "5782     v. -suf. =clit =clit. -suf.      criar -NEG(SK) =PLU =ENF -IMPF   \n",
       "\n",
       "               free_translation                              file  \\\n",
       "1982  Ni siquiera vienen a ver.  JC.NC.IC-trabajo.nelita-2013.txt   \n",
       "5782  Ni siquiera vienen a ver.  JC.NC.IC-trabajo.nelita-2013.txt   \n",
       "\n",
       "                      tokens  \n",
       "1982          [▁oinyamabobi]  \n",
       "5782  [▁rowa, yama, bobi, i]  "
      ]
     },
     "execution_count": 59,
     "metadata": {},
     "output_type": "execute_result"
    }
   ],
   "source": [
    "# import random\n",
    "# num=random.randint(0, len(tokens))\n",
    "# tokens.iloc[num:num+10]\n",
    "tokens.loc[tokens['id'].str.contains('JC.NC.IC-trabajo.nelita-2013_020')]"
   ]
  },
  {
   "cell_type": "code",
   "execution_count": 10,
   "metadata": {},
   "outputs": [
    {
     "data": {
      "text/plain": [
       "0      non kentihokobi\n",
       "1    kapa chopa biribi\n",
       "2                 kapa\n",
       "3    kapa meken beneme\n",
       "4     kapa bene mekeme\n",
       "Name: transcription, dtype: object"
      ]
     },
     "execution_count": 10,
     "metadata": {},
     "output_type": "execute_result"
    }
   ],
   "source": [
    "df_corpus.head().transcription"
   ]
  }
 ],
 "metadata": {
  "kernelspec": {
   "display_name": "Python 3",
   "language": "python",
   "name": "python3"
  },
  "language_info": {
   "codemirror_mode": {
    "name": "ipython",
    "version": 3
   },
   "file_extension": ".py",
   "mimetype": "text/x-python",
   "name": "python",
   "nbconvert_exporter": "python",
   "pygments_lexer": "ipython3",
   "version": "3.12.4"
  }
 },
 "nbformat": 4,
 "nbformat_minor": 2
}
