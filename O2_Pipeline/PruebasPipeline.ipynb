{
 "cells": [
  {
   "cell_type": "code",
   "execution_count": 8,
   "metadata": {},
   "outputs": [],
   "source": [
    "import pandas as pd\n",
    "import importlib\n",
    "\n",
    "df_corpus = pd.read_json('https://raw.githubusercontent.com/Xnehil/Tesis/main/O1_Corpus/corpus.json', lines=True)"
   ]
  },
  {
   "cell_type": "code",
   "execution_count": 5,
   "metadata": {},
   "outputs": [
    {
     "data": {
      "text/plain": [
       "<module 'FuncionesPipeline' from 'd:\\\\Repositorios\\\\Tesis\\\\O2_Pipeline\\\\FuncionesPipeline.py'>"
      ]
     },
     "execution_count": 5,
     "metadata": {},
     "output_type": "execute_result"
    }
   ],
   "source": [
    "import FuncionesPipeline as fp\n",
    "#Para recargar el módulo durante el desarrollo\n",
    "importlib.reload(fp)"
   ]
  },
  {
   "cell_type": "code",
   "execution_count": 9,
   "metadata": {},
   "outputs": [
    {
     "name": "stdout",
     "output_type": "stream",
     "text": [
      "0      non kentihokobi\n",
      "1    kapa chopa biribi\n",
      "2                 kapa\n",
      "3    kapa meken beneme\n",
      "4     kapa bene mekeme\n",
      "Name: transcription, dtype: object\n"
     ]
    }
   ],
   "source": [
    "print(df_corpus.head().transcription)\n",
    "df_corpus['clean_text'] = fp.pipeline(df_corpus['transcription'])"
   ]
  },
  {
   "cell_type": "code",
   "execution_count": 10,
   "metadata": {},
   "outputs": [
    {
     "data": {
      "text/plain": [
       "0      non kentihokobi\n",
       "1    kapa chopa biribi\n",
       "2                 kapa\n",
       "3    kapa meken beneme\n",
       "4     kapa bene mekeme\n",
       "Name: transcription, dtype: object"
      ]
     },
     "execution_count": 10,
     "metadata": {},
     "output_type": "execute_result"
    }
   ],
   "source": [
    "df_corpus.head().transcription"
   ]
  }
 ],
 "metadata": {
  "kernelspec": {
   "display_name": "Python 3",
   "language": "python",
   "name": "python3"
  },
  "language_info": {
   "codemirror_mode": {
    "name": "ipython",
    "version": 3
   },
   "file_extension": ".py",
   "mimetype": "text/x-python",
   "name": "python",
   "nbconvert_exporter": "python",
   "pygments_lexer": "ipython3",
   "version": "3.12.4"
  }
 },
 "nbformat": 4,
 "nbformat_minor": 2
}
