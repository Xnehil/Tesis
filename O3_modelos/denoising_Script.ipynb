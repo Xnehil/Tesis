{
 "cells": [
  {
   "cell_type": "code",
   "execution_count": 1,
   "metadata": {},
   "outputs": [],
   "source": [
    "def readdata(fileName):  \n",
    "    temp_list = []\n",
    "    file = open(fileName, 'r', encoding='utf-8')\n",
    "    Lines = file.readlines()\n",
    "    for line in Lines:    \n",
    "            temp_list.append(line.rstrip(\"\\n\"))\n",
    "    return temp_list "
   ]
  },
  {
   "cell_type": "code",
   "execution_count": 2,
   "metadata": {},
   "outputs": [],
   "source": [
    "import numpy as np\n",
    "def get_masked_input_and_labels(source):\n",
    "    temp_dict1 = {}\n",
    "    temp_dict2 = {}\n",
    "    for i, item in enumerate(source):\n",
    "        temp_dict1[item] = i\n",
    "    temp_dict1['<mask>'] = len(source)  \n",
    "    \n",
    "    for i, item in enumerate(source):\n",
    "        temp_dict2[i] = item\n",
    "    temp_dict2[len(source)] = '<mask>' \n",
    "    \n",
    "    mask_token_id= temp_dict1['<mask>']\n",
    "    encoded_texts = np.array([temp_dict1[item] for item in source])\n",
    "    # 15% BERT masking\n",
    "    inp_mask = np.random.rand(len(encoded_texts)) < 0.25\n",
    "    inp_mask[encoded_texts <= 4] = False\n",
    "    # Prepare input\n",
    "    encoded_texts_masked = np.copy(encoded_texts)\n",
    "    # Set input to [MASK] which is the last token for the 90% of tokens\n",
    "    # This means leaving 10% unchanged\n",
    "    inp_mask_2mask = inp_mask & (np.random.rand(*encoded_texts.shape) < 0.80)\n",
    "    encoded_texts_masked[\n",
    "        inp_mask_2mask\n",
    "    ] = mask_token_id  # mask token is the last in the dict\n",
    "\n",
    "    # Set 10% to a random token\n",
    "    inp_mask_2random = inp_mask_2mask & (np.random.rand(*encoded_texts.shape) < 2 / 8)\n",
    "    encoded_texts_masked[inp_mask_2random] = np.random.randint(\n",
    "        3, mask_token_id, inp_mask_2random.sum()\n",
    "    )\n",
    "\n",
    "    encoded_masked_texts = [temp_dict2[item] for item in encoded_texts_masked]\n",
    "    return  ' '.join(source[4:])+' \\n', ' '.join(encoded_masked_texts)+' \\n'"
   ]
  },
  {
   "cell_type": "code",
   "execution_count": 3,
   "metadata": {},
   "outputs": [],
   "source": [
    "isk_data = readdata('tokens.txt')\n",
    "isk_input_list = []\n",
    "isk_target_list = []\n",
    "for data_point in isk_data: \n",
    "    sentence = data_point.strip().split()\n",
    "    non_masked_sent, masked_sent = get_masked_input_and_labels(sentence)\n",
    "    isk_input_list.append(masked_sent)\n",
    "    isk_target_list.append(non_masked_sent) "
   ]
  },
  {
   "cell_type": "code",
   "execution_count": 4,
   "metadata": {},
   "outputs": [],
   "source": [
    "# Define the split ratios\n",
    "train_ratio = 0.8\n",
    "val_ratio = 0.1\n",
    "test_ratio = 0.1\n",
    "\n",
    "# Calculate the split indices\n",
    "train_end = int(len(isk_input_list) * train_ratio)\n",
    "val_end = train_end + int(len(isk_input_list) * val_ratio)\n",
    "\n",
    "# Write files with isk_input_list and isk_target_list in train, val, and test files\n",
    "with open('train.isk', 'w', encoding='utf-8') as f:\n",
    "    for item in isk_input_list[:train_end]:\n",
    "        f.write(\"%s\" % item)\n",
    "with open('val.isk', 'w', encoding='utf-8') as f:\n",
    "    for item in isk_input_list[train_end:val_end]:\n",
    "        f.write(\"%s\" % item)\n",
    "with open('test.isk', 'w', encoding='utf-8') as f:\n",
    "    for item in isk_input_list[val_end:]:\n",
    "        f.write(\"%s\" % item)\n",
    "\n",
    "with open('train.isk.target', 'w', encoding='utf-8') as f:\n",
    "    for item in isk_target_list[:train_end]:\n",
    "        f.write(\"%s\" % item)\n",
    "with open('val.isk.target', 'w', encoding='utf-8') as f:\n",
    "    for item in isk_target_list[train_end:val_end]:\n",
    "        f.write(\"%s\" % item)\n",
    "with open('test.isk.target', 'w', encoding='utf-8') as f:\n",
    "    for item in isk_target_list[val_end:]:\n",
    "        f.write(\"%s\" % item)"
   ]
  },
  {
   "cell_type": "code",
   "execution_count": null,
   "metadata": {},
   "outputs": [],
   "source": [
    "hindi_data = readdata('English/en_2Mmono_train.spm.hi_IN')\n",
    "hindi_input_list = []\n",
    "hindi_target_list = []\n",
    "for data_point in hindi_data: \n",
    "    sentence = data_point.strip().split()\n",
    "    non_masked_sent, masked_sent = get_masked_input_and_labels(sentence)\n",
    "    hindi_input_list.append(masked_sent)\n",
    "    hindi_target_list.append(non_masked_sent) "
   ]
  },
  {
   "cell_type": "code",
   "execution_count": null,
   "metadata": {},
   "outputs": [],
   "source": [
    "assert len(hindi_input_list) == len(hindi_target_list)    \n",
    "print(len(hindi_input_list))\n",
    "print(hindi_input_list[10000])\n",
    "print(hindi_target_list[10000])"
   ]
  },
  {
   "cell_type": "code",
   "execution_count": null,
   "metadata": {},
   "outputs": [],
   "source": [
    "ja_data = readdata('Japanese/ja_2Mmono_train.spm.hi_IN')\n",
    "print(len(ja_data))\n",
    "ja_input_list = []\n",
    "ja_target_list = []\n",
    "for data_point in ja_data: \n",
    "    sentence = data_point.strip().split()\n",
    "    non_masked_sent, masked_sent = get_masked_input_and_labels(sentence)\n",
    "    ja_input_list.append(masked_sent)\n",
    "    ja_target_list.append(non_masked_sent)"
   ]
  },
  {
   "cell_type": "code",
   "execution_count": null,
   "metadata": {},
   "outputs": [],
   "source": [
    "assert len(ja_input_list) == len(ja_target_list)    \n",
    "print(len(ja_input_list))\n",
    "print(ja_input_list[100])\n",
    "print(ja_target_list[100])"
   ]
  },
  {
   "cell_type": "code",
   "execution_count": 198,
   "metadata": {},
   "outputs": [],
   "source": [
    "hi_data = readdata('Hindi/hi_2Mmono_train.spm.hi_IN')\n",
    "hi_input_list = []\n",
    "hi_target_list = []\n",
    "for data_point in hi_data: \n",
    "    sentence = data_point.strip().split()\n",
    "    non_masked_sent, masked_sent = get_masked_input_and_labels(sentence)\n",
    "    hi_input_list.append(masked_sent)\n",
    "    hi_target_list.append(non_masked_sent)"
   ]
  },
  {
   "cell_type": "code",
   "execution_count": null,
   "metadata": {},
   "outputs": [],
   "source": [
    "assert len(hi_input_list) == len(hi_target_list)    \n",
    "print(len(hi_input_list))\n",
    "print(hi_input_list[1000])\n",
    "print(hi_target_list[1000])"
   ]
  },
  {
   "cell_type": "code",
   "execution_count": 208,
   "metadata": {},
   "outputs": [],
   "source": [
    "input_list = []\n",
    "target_list = []\n",
    "for i in range(len(hi_input_list)*3):\n",
    "    input_list.append(hindi_input_list)\n",
    "    input_list.append(ja_input_list)\n",
    "    input_list.append(hi_input_list)\n",
    "    \n",
    "    target_list.append(hindi_target_list)\n",
    "    target_list.append(ja_target_list)\n",
    "    target_list.append(hi_target_list)"
   ]
  },
  {
   "cell_type": "code",
   "execution_count": null,
   "metadata": {},
   "outputs": [],
   "source": [
    "assert len(input_list) == len(target_list)    \n",
    "print(len(input_list))\n",
    "print(input_list[:6])\n",
    "print(\"*\"*100)\n",
    "print(target_list[:6])"
   ]
  },
  {
   "cell_type": "code",
   "execution_count": null,
   "metadata": {},
   "outputs": [],
   "source": []
  },
  {
   "cell_type": "code",
   "execution_count": 6,
   "metadata": {},
   "outputs": [],
   "source": [
    "file_mapping = {\n",
    "    'ja_2Mmono_train.hi_IN': final_mono_hindi\n",
    "}\n",
    "for k, v in file_mapping.items():\n",
    "    with open(f'{k}', 'w') as fp:\n",
    "        fp.writelines(v)"
   ]
  }
 ],
 "metadata": {
  "kernelspec": {
   "display_name": "Python 3",
   "language": "python",
   "name": "python3"
  },
  "language_info": {
   "codemirror_mode": {
    "name": "ipython",
    "version": 3
   },
   "file_extension": ".py",
   "mimetype": "text/x-python",
   "name": "python",
   "nbconvert_exporter": "python",
   "pygments_lexer": "ipython3",
   "version": "undefined.undefined.undefined"
  }
 },
 "nbformat": 4,
 "nbformat_minor": 4
}
