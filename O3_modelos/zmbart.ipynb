{
 "cells": [
  {
   "cell_type": "code",
   "execution_count": 1,
   "id": "4f8362fb",
   "metadata": {
    "execution": {
     "iopub.execute_input": "2024-09-25T01:20:36.195481Z",
     "iopub.status.busy": "2024-09-25T01:20:36.194995Z",
     "iopub.status.idle": "2024-09-25T01:20:39.138569Z",
     "shell.execute_reply": "2024-09-25T01:20:39.136883Z"
    },
    "papermill": {
     "duration": 2.951528,
     "end_time": "2024-09-25T01:20:39.141458",
     "exception": false,
     "start_time": "2024-09-25T01:20:36.189930",
     "status": "completed"
    },
    "tags": []
   },
   "outputs": [
    {
     "name": "stdout",
     "output_type": "stream",
     "text": [
      "Cloning into 'ZmBART'...\r\n",
      "remote: Enumerating objects: 1084, done.\u001b[K\r\n",
      "remote: Counting objects: 100% (168/168), done.\u001b[K\r\n",
      "remote: Compressing objects: 100% (113/113), done.\u001b[K\r\n",
      "remote: Total 1084 (delta 99), reused 99 (delta 53), pack-reused 916 (from 1)\u001b[K\r\n",
      "Receiving objects: 100% (1084/1084), 5.84 MiB | 13.46 MiB/s, done.\r\n",
      "Resolving deltas: 100% (209/209), done.\r\n"
     ]
    }
   ],
   "source": [
    "!git clone https://github.com/kaushal0494/ZmBART.git"
   ]
  },
  {
   "cell_type": "code",
   "execution_count": 2,
   "id": "dde75b37",
   "metadata": {
    "execution": {
     "iopub.execute_input": "2024-09-25T01:20:39.151566Z",
     "iopub.status.busy": "2024-09-25T01:20:39.150985Z",
     "iopub.status.idle": "2024-09-25T01:20:43.585738Z",
     "shell.execute_reply": "2024-09-25T01:20:43.583858Z"
    },
    "papermill": {
     "duration": 4.443403,
     "end_time": "2024-09-25T01:20:43.589047",
     "exception": false,
     "start_time": "2024-09-25T01:20:39.145644",
     "status": "completed"
    },
    "tags": []
   },
   "outputs": [
    {
     "name": "stdout",
     "output_type": "stream",
     "text": [
      "Cloning into 'f959c19ec18fee3ce2ff9b3b86b67c16'...\r\n",
      "remote: Enumerating objects: 3, done.\u001b[K\r\n",
      "remote: Total 3 (delta 0), reused 0 (delta 0), pack-reused 3 (from 1)\u001b[K\r\n",
      "Unpacking objects: 100% (3/3), 509 bytes | 509.00 KiB/s, done.\r\n"
     ]
    }
   ],
   "source": [
    "import os\n",
    "os.chdir(\"/kaggle/working/ZmBART\") \n",
    "\n",
    "!git clone https://gist.github.com/f959c19ec18fee3ce2ff9b3b86b67c16.git\n",
    "!mv /kaggle/working/ZmBART/f959c19ec18fee3ce2ff9b3b86b67c16/convert_envyml_to_reqtxt /kaggle/working/ZmBART\n",
    "!python /kaggle/working/ZmBART/convert_envyml_to_reqtxt"
   ]
  },
  {
   "cell_type": "code",
   "execution_count": 3,
   "id": "93d81464",
   "metadata": {
    "execution": {
     "iopub.execute_input": "2024-09-25T01:20:43.600462Z",
     "iopub.status.busy": "2024-09-25T01:20:43.599426Z",
     "iopub.status.idle": "2024-09-25T01:21:01.183406Z",
     "shell.execute_reply": "2024-09-25T01:21:01.181706Z"
    },
    "papermill": {
     "duration": 17.593587,
     "end_time": "2024-09-25T01:21:01.186726",
     "exception": false,
     "start_time": "2024-09-25T01:20:43.593139",
     "status": "completed"
    },
    "tags": []
   },
   "outputs": [
    {
     "name": "stdout",
     "output_type": "stream",
     "text": [
      "\u001b[31mERROR: Invalid requirement: '_libgcc_mutex==0.1' (from line 1 of requirements.txt)\u001b[0m\u001b[31m\r\n",
      "\u001b[0mRequirement already satisfied: sentencepiece in /opt/conda/lib/python3.10/site-packages (0.2.0)\r\n"
     ]
    }
   ],
   "source": [
    "!pip install -r requirements.txt\n",
    "!pip install sentencepiece"
   ]
  },
  {
   "cell_type": "code",
   "execution_count": null,
   "id": "ea423b02",
   "metadata": {
    "papermill": {
     "duration": 0.004207,
     "end_time": "2024-09-25T01:21:01.195324",
     "exception": false,
     "start_time": "2024-09-25T01:21:01.191117",
     "status": "completed"
    },
    "tags": []
   },
   "outputs": [],
   "source": []
  }
 ],
 "metadata": {
  "kaggle": {
   "accelerator": "none",
   "dataSources": [],
   "dockerImageVersionId": 30775,
   "isGpuEnabled": false,
   "isInternetEnabled": true,
   "language": "python",
   "sourceType": "notebook"
  },
  "kernelspec": {
   "display_name": "Python 3",
   "language": "python",
   "name": "python3"
  },
  "language_info": {
   "codemirror_mode": {
    "name": "ipython",
    "version": 3
   },
   "file_extension": ".py",
   "mimetype": "text/x-python",
   "name": "python",
   "nbconvert_exporter": "python",
   "pygments_lexer": "ipython3",
   "version": "3.10.14"
  },
  "papermill": {
   "default_parameters": {},
   "duration": 28.570304,
   "end_time": "2024-09-25T01:21:01.622133",
   "environment_variables": {},
   "exception": null,
   "input_path": "__notebook__.ipynb",
   "output_path": "__notebook__.ipynb",
   "parameters": {},
   "start_time": "2024-09-25T01:20:33.051829",
   "version": "2.6.0"
  }
 },
 "nbformat": 4,
 "nbformat_minor": 5
}
